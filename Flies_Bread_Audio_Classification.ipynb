{
  "nbformat": 4,
  "nbformat_minor": 0,
  "metadata": {
    "accelerator": "GPU",
    "colab": {
      "name": "Flies-Bread-Audio-Classification",
      "provenance": []
    },
    "kernelspec": {
      "display_name": "Python 3",
      "name": "python3"
    }
  },
  "cells": [
    {
      "cell_type": "markdown",
      "metadata": {
        "id": "kgt3z2RA4siY"
      },
      "source": [
        "In this assignment you will use a random forest algorithm to classify time series data. The dataset and its description is available at\n",
        "\n",
        "Data Source: https://timeseriesclassification.com/description.php?Dataset=FruitFlies (Links to an external site.)\n",
        "\n",
        "Use 5, 50, and 500 trees with all other parameters set to their default values."
      ]
    },
    {
      "cell_type": "code",
      "metadata": {
        "id": "TRSU-TOxd7Yo"
      },
      "source": [
        "#Importing all the required libraries\n",
        "from scipy.io import arff\n",
        "import pandas as pd\n",
        "import numpy as np\n",
        "import copy\n",
        "from sklearn.ensemble import RandomForestClassifier"
      ],
      "execution_count": null,
      "outputs": []
    },
    {
      "cell_type": "code",
      "metadata": {
        "colab": {
          "base_uri": "https://localhost:8080/"
        },
        "id": "E6tiK6-nkT6J",
        "outputId": "5e73b810-e69d-4b64-dce1-7d2c6e9b2df0"
      },
      "source": [
        "#Converting arff format files to dataframe\n",
        "flies_train = arff.loadarff('FruitFlies_TRAIN.arff')\n",
        "flies_train_df = pd.DataFrame(flies_train[0])\n",
        "flies_test = arff.loadarff('FruitFlies_TEST.arff')\n",
        "flies_test_df = pd.DataFrame(flies_test[0])\n",
        "\n",
        "#Converting Target Column into numerical codes\n",
        "flies_train_df.target = pd.Categorical(flies_train_df.target)\n",
        "flies_train_df[\"target\"] = flies_train_df.target.cat.codes\n",
        "\n",
        "#Converting target Column into numerical codes\n",
        "flies_test_df.target = pd.Categorical(flies_test_df.target)\n",
        "flies_test_df[\"target\"] = flies_test_df.target.cat.codes\n",
        "\n",
        "#Checking the changes\n",
        "print(\"How dataset looks like: \",\"\\n\",flies_train_df.head())\n",
        "print(\"Shape of the dataset: \", flies_train_df.shape)"
      ],
      "execution_count": null,
      "outputs": [
        {
          "output_type": "stream",
          "text": [
            "How dataset looks like:  \n",
            "        att1      att2      att3      att4  ...   att4998   att4999   att5000  target\n",
            "0  0.000244  0.001831 -0.000061 -0.001312  ...  0.006165  0.003967  0.001251       0\n",
            "1 -0.000244  0.000275 -0.000153 -0.001251  ...  0.007233  0.013367  0.016144       0\n",
            "2  0.002350 -0.002441 -0.001373  0.000122  ...  0.001648 -0.000824  0.001373       0\n",
            "3  0.001465  0.001221 -0.000305 -0.001129  ...  0.003113  0.000000 -0.002319       0\n",
            "4  0.000397 -0.000061 -0.000641  0.000336  ...  0.000824  0.000793  0.003143       0\n",
            "\n",
            "[5 rows x 5001 columns]\n",
            "Shape of the dataset:  (17259, 5001)\n"
          ],
          "name": "stdout"
        }
      ]
    },
    {
      "cell_type": "code",
      "metadata": {
        "id": "X7th297GhrdV"
      },
      "source": [
        "#Separating the x and y values from training set\n",
        "x_train = flies_train_df.iloc[:, :-1].values\n",
        "y_train = flies_train_df.iloc[:,-1].values\n",
        "\n",
        "#Separating the x and y values from testing set\n",
        "x_test = flies_test_df.iloc[:, :-1].values\n",
        "y_test = flies_test_df.iloc[:,-1].values"
      ],
      "execution_count": null,
      "outputs": []
    },
    {
      "cell_type": "code",
      "metadata": {
        "colab": {
          "background_save": true,
          "base_uri": "https://localhost:8080/"
        },
        "id": "Wl3dV-kMruBj",
        "outputId": "c7bf8dfc-2bd3-4848-eec4-13dcfeaf12c6"
      },
      "source": [
        "#Modelling regression model using tree values = 5, 50,500\n",
        "final_predictions=[]\n",
        "\n",
        "for i in [5,50,70,80,100,150,200,250,500]:\n",
        "  print(i)\n",
        "\n",
        "#Appling and fitting the model\n",
        "  classifier = RandomForestClassifier(n_estimators= i)\n",
        "  classifier.fit(x_train, y_train)\n",
        "\n",
        "  #Predicting the prediction probability on test set  \n",
        "  y_pred = classifier.predict(x_test)\n",
        "  \n",
        "  from sklearn.metrics import accuracy_score\n",
        "  print(accuracy_score(y_test,y_pred))\n",
        "  #print(\"Score:\",classifier.score(x_test,y_pred))\n",
        "  #print(model.score(x_test,y_test))"
      ],
      "execution_count": null,
      "outputs": [
        {
          "output_type": "stream",
          "text": [
            "5\n",
            "0.7496378700967611\n",
            "50\n",
            "0.8165015354307897\n",
            "70\n",
            "0.8213106205458022\n",
            "80\n",
            "0.8214844428993568\n",
            "100\n",
            "0.822063850744539\n",
            "150\n",
            "0.8230488440813488\n",
            "200\n",
            "0.8260038240917782\n",
            "250\n",
            "0.825424416246596\n",
            "500\n",
            "0.8250767715394867\n"
          ],
          "name": "stdout"
        }
      ]
    }
  ]
}